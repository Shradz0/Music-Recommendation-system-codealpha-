{
 "cells": [
  {
   "cell_type": "markdown",
   "id": "d3efca32-3841-46fa-81ed-bf31dc8a707b",
   "metadata": {},
   "source": [
    "### Importing & Loading what we need"
   ]
  },
  {
   "cell_type": "code",
   "execution_count": 1,
   "id": "5a8b86c0-3d73-4dc5-817d-177549d6e9c8",
   "metadata": {},
   "outputs": [],
   "source": [
    "import pandas as pd\n",
    "import nltk\n",
    "import pickle\n",
    "from nltk.stem.porter import PorterStemmer\n",
    "from sklearn.feature_extraction.text import TfidfVectorizer\n",
    "from sklearn.metrics.pairwise import cosine_similarity\n",
    "\n",
    "# Loading The DataSet\n",
    "data = pd.read_csv(\"Music Recomendation System/spotify_millsongdata.csv\")"
   ]
  },
  {
   "cell_type": "code",
   "execution_count": 2,
   "id": "75ca00ad-014c-4c5c-9482-a8f830f2fb4c",
   "metadata": {},
   "outputs": [
    {
     "data": {
      "text/html": [
       "<div>\n",
       "<style scoped>\n",
       "    .dataframe tbody tr th:only-of-type {\n",
       "        vertical-align: middle;\n",
       "    }\n",
       "\n",
       "    .dataframe tbody tr th {\n",
       "        vertical-align: top;\n",
       "    }\n",
       "\n",
       "    .dataframe thead th {\n",
       "        text-align: right;\n",
       "    }\n",
       "</style>\n",
       "<table border=\"1\" class=\"dataframe\">\n",
       "  <thead>\n",
       "    <tr style=\"text-align: right;\">\n",
       "      <th></th>\n",
       "      <th>artist</th>\n",
       "      <th>song</th>\n",
       "      <th>link</th>\n",
       "      <th>text</th>\n",
       "    </tr>\n",
       "  </thead>\n",
       "  <tbody>\n",
       "    <tr>\n",
       "      <th>0</th>\n",
       "      <td>ABBA</td>\n",
       "      <td>Ahe's My Kind Of Girl</td>\n",
       "      <td>/a/abba/ahes+my+kind+of+girl_20598417.html</td>\n",
       "      <td>Look at her face, it's a wonderful face  \\r\\nA...</td>\n",
       "    </tr>\n",
       "    <tr>\n",
       "      <th>1</th>\n",
       "      <td>ABBA</td>\n",
       "      <td>Andante, Andante</td>\n",
       "      <td>/a/abba/andante+andante_20002708.html</td>\n",
       "      <td>Take it easy with me, please  \\r\\nTouch me gen...</td>\n",
       "    </tr>\n",
       "    <tr>\n",
       "      <th>2</th>\n",
       "      <td>ABBA</td>\n",
       "      <td>As Good As New</td>\n",
       "      <td>/a/abba/as+good+as+new_20003033.html</td>\n",
       "      <td>I'll never know why I had to go  \\r\\nWhy I had...</td>\n",
       "    </tr>\n",
       "    <tr>\n",
       "      <th>3</th>\n",
       "      <td>ABBA</td>\n",
       "      <td>Bang</td>\n",
       "      <td>/a/abba/bang_20598415.html</td>\n",
       "      <td>Making somebody happy is a question of give an...</td>\n",
       "    </tr>\n",
       "    <tr>\n",
       "      <th>4</th>\n",
       "      <td>ABBA</td>\n",
       "      <td>Bang-A-Boomerang</td>\n",
       "      <td>/a/abba/bang+a+boomerang_20002668.html</td>\n",
       "      <td>Making somebody happy is a question of give an...</td>\n",
       "    </tr>\n",
       "  </tbody>\n",
       "</table>\n",
       "</div>"
      ],
      "text/plain": [
       "  artist                   song                                        link  \\\n",
       "0   ABBA  Ahe's My Kind Of Girl  /a/abba/ahes+my+kind+of+girl_20598417.html   \n",
       "1   ABBA       Andante, Andante       /a/abba/andante+andante_20002708.html   \n",
       "2   ABBA         As Good As New        /a/abba/as+good+as+new_20003033.html   \n",
       "3   ABBA                   Bang                  /a/abba/bang_20598415.html   \n",
       "4   ABBA       Bang-A-Boomerang      /a/abba/bang+a+boomerang_20002668.html   \n",
       "\n",
       "                                                text  \n",
       "0  Look at her face, it's a wonderful face  \\r\\nA...  \n",
       "1  Take it easy with me, please  \\r\\nTouch me gen...  \n",
       "2  I'll never know why I had to go  \\r\\nWhy I had...  \n",
       "3  Making somebody happy is a question of give an...  \n",
       "4  Making somebody happy is a question of give an...  "
      ]
     },
     "execution_count": 2,
     "metadata": {},
     "output_type": "execute_result"
    }
   ],
   "source": [
    "data.head()"
   ]
  },
  {
   "cell_type": "code",
   "execution_count": 3,
   "id": "154b38b9-a7cf-4b73-8454-c1117f0a0547",
   "metadata": {},
   "outputs": [
    {
     "data": {
      "text/plain": [
       "(57650, 4)"
      ]
     },
     "execution_count": 3,
     "metadata": {},
     "output_type": "execute_result"
    }
   ],
   "source": [
    "data.shape"
   ]
  },
  {
   "cell_type": "code",
   "execution_count": 4,
   "id": "e0a47937-8bee-44f4-a8c2-f8b413f4fcae",
   "metadata": {},
   "outputs": [
    {
     "name": "stdout",
     "output_type": "stream",
     "text": [
      "<class 'pandas.core.frame.DataFrame'>\n",
      "RangeIndex: 57650 entries, 0 to 57649\n",
      "Data columns (total 4 columns):\n",
      " #   Column  Non-Null Count  Dtype \n",
      "---  ------  --------------  ----- \n",
      " 0   artist  57650 non-null  object\n",
      " 1   song    57650 non-null  object\n",
      " 2   link    57650 non-null  object\n",
      " 3   text    57650 non-null  object\n",
      "dtypes: object(4)\n",
      "memory usage: 1.8+ MB\n"
     ]
    }
   ],
   "source": [
    "data.info()"
   ]
  },
  {
   "cell_type": "markdown",
   "id": "1043402e-2179-4ce9-b144-ae9760d9ff38",
   "metadata": {},
   "source": [
    "### Checking For Missing Values"
   ]
  },
  {
   "cell_type": "code",
   "execution_count": 5,
   "id": "c1955ac0-7747-44fc-a032-cb9bbf510c5c",
   "metadata": {},
   "outputs": [
    {
     "data": {
      "text/plain": [
       "artist    0\n",
       "song      0\n",
       "link      0\n",
       "text      0\n",
       "dtype: int64"
      ]
     },
     "execution_count": 5,
     "metadata": {},
     "output_type": "execute_result"
    }
   ],
   "source": [
    "data.isna().sum()"
   ]
  },
  {
   "cell_type": "markdown",
   "id": "a9890883-d8bc-49d8-a16c-222613ee9b70",
   "metadata": {},
   "source": [
    "### Droping Unwanted Columns"
   ]
  },
  {
   "cell_type": "code",
   "execution_count": 6,
   "id": "c3dc32d1-1933-4b9b-8ff7-6644ed75b897",
   "metadata": {},
   "outputs": [],
   "source": [
    "# Take a sample of 5000 rows, drop 'link' column, and reset index\n",
    "data = data.sample(5000).drop(columns=['link']).reset_index(drop=True)  "
   ]
  },
  {
   "cell_type": "code",
   "execution_count": 7,
   "id": "edc5932b-ee33-4bea-949a-a28946d277bc",
   "metadata": {},
   "outputs": [
    {
     "data": {
      "text/html": [
       "<div>\n",
       "<style scoped>\n",
       "    .dataframe tbody tr th:only-of-type {\n",
       "        vertical-align: middle;\n",
       "    }\n",
       "\n",
       "    .dataframe tbody tr th {\n",
       "        vertical-align: top;\n",
       "    }\n",
       "\n",
       "    .dataframe thead th {\n",
       "        text-align: right;\n",
       "    }\n",
       "</style>\n",
       "<table border=\"1\" class=\"dataframe\">\n",
       "  <thead>\n",
       "    <tr style=\"text-align: right;\">\n",
       "      <th></th>\n",
       "      <th>artist</th>\n",
       "      <th>song</th>\n",
       "      <th>text</th>\n",
       "    </tr>\n",
       "  </thead>\n",
       "  <tbody>\n",
       "    <tr>\n",
       "      <th>0</th>\n",
       "      <td>Jason Mraz</td>\n",
       "      <td>Outdoors</td>\n",
       "      <td>All day I've been inside  \\r\\nAnd I've got the...</td>\n",
       "    </tr>\n",
       "    <tr>\n",
       "      <th>1</th>\n",
       "      <td>Incognito</td>\n",
       "      <td>Smile</td>\n",
       "      <td>There's no song like a love song  \\r\\n(Love so...</td>\n",
       "    </tr>\n",
       "    <tr>\n",
       "      <th>2</th>\n",
       "      <td>John Denver</td>\n",
       "      <td>Old Train</td>\n",
       "      <td>Old Train, I can hear your whistle blow  \\r\\nA...</td>\n",
       "    </tr>\n",
       "    <tr>\n",
       "      <th>3</th>\n",
       "      <td>Dan Fogelberg</td>\n",
       "      <td>Lovers In A Dangerous Time</td>\n",
       "      <td>The hours grow shorter as the days go by  \\r\\n...</td>\n",
       "    </tr>\n",
       "    <tr>\n",
       "      <th>4</th>\n",
       "      <td>John Martyn</td>\n",
       "      <td>Go Easy</td>\n",
       "      <td>Looking at me, never find out what a working m...</td>\n",
       "    </tr>\n",
       "  </tbody>\n",
       "</table>\n",
       "</div>"
      ],
      "text/plain": [
       "          artist                        song  \\\n",
       "0     Jason Mraz                    Outdoors   \n",
       "1      Incognito                       Smile   \n",
       "2    John Denver                   Old Train   \n",
       "3  Dan Fogelberg  Lovers In A Dangerous Time   \n",
       "4    John Martyn                     Go Easy   \n",
       "\n",
       "                                                text  \n",
       "0  All day I've been inside  \\r\\nAnd I've got the...  \n",
       "1  There's no song like a love song  \\r\\n(Love so...  \n",
       "2  Old Train, I can hear your whistle blow  \\r\\nA...  \n",
       "3  The hours grow shorter as the days go by  \\r\\n...  \n",
       "4  Looking at me, never find out what a working m...  "
      ]
     },
     "execution_count": 7,
     "metadata": {},
     "output_type": "execute_result"
    }
   ],
   "source": [
    "data.head()"
   ]
  },
  {
   "cell_type": "code",
   "execution_count": 8,
   "id": "c581e3be-1c5c-4c7b-97a2-0daa85dcd598",
   "metadata": {},
   "outputs": [
    {
     "data": {
      "text/plain": [
       "\"All day I've been inside  \\r\\nAnd I've got the feeling  \\r\\nI'm trapped between the walls  \\r\\nAnd underneath the ceiling  \\r\\nI feel a bit off track  \\r\\nAnd now I'm trying to get back  \\r\\n  \\r\\nBack in the cool cool air  \\r\\nWhere the sun in shining  \\r\\nNothing's gonna stop me  \\r\\nIt's all in the timing  \\r\\nIt's finally again my turn  \\r\\nIt's time to return  \\r\\n  \\r\\nCause I won't stay inside  \\r\\nNo more no more  \\r\\nI cannot wait to go outdoors  \\r\\nMmmhmmhmmhmm  \\r\\nHey hey hey (Elmo)  \\r\\n  \\r\\nWell open up your door  \\r\\nAnd be like me  \\r\\nOpen up your door  \\r\\nAnd then breathe free  \\r\\nLook at all the beauty you'll feel  \\r\\nLove love love love  \\r\\n  \\r\\nListen to the music of the wind  \\r\\nAnd the birdies sing  \\r\\nWe're just one big family  \\r\\nAnd all of nature deserves to be  \\r\\nLoved loved loved loved loved  \\r\\n  \\r\\nSo I won't stay inside  \\r\\nNo more no more  \\r\\nIt cannot wait  \\r\\nI'm sure  \\r\\nThere's no need to run and hide  \\r\\nLet's go explore  \\r\\nIt feels so great  \\r\\n  \\r\\nLet's go outdoors  \\r\\n  \\r\\nDo do do do do do do do  \\r\\nEveryone come on  \\r\\nCome on out here  \\r\\nWhere the air is fresh and clear  \\r\\n  \\r\\nSo I won't stay inside  \\r\\nNo more no more  \\r\\nIt cannot wait  \\r\\nLet's go outdoors  \\r\\n  \\r\\nJason:  \\r\\nWell open up your door  \\r\\nAnd be like me  \\r\\nOpen up your door  \\r\\nAnd then breathe free  \\r\\nLook at all the beauty  \\r\\nAnd you'll find the earth  \\r\\nAnd the sky is yours  \\r\\nSo please don't  \\r\\nThere's no need  \\r\\nThere's no need to hide inside  \\r\\nLet's go explore  \\r\\nThis'll this'll  \\r\\nIt feels so great  \\r\\nLet's go outdoors  \\r\\n  \\r\\nEverybody else(at same time):  \\r\\nI won't stay inside  \\r\\nNo more no more  \\r\\nIt cannot wait  \\r\\nI'm sure  \\r\\nThere's no need to run and hide  \\r\\nLet's go explore  \\r\\nIt feels so great  \\r\\nLet's go outdoors\\r\\n\\r\\n\""
      ]
     },
     "execution_count": 8,
     "metadata": {},
     "output_type": "execute_result"
    }
   ],
   "source": [
    "data['text'][0]  # Display the lyrics of the first song in the dataset"
   ]
  },
  {
   "cell_type": "markdown",
   "id": "425b9a26-0c2f-4b20-ad88-015b0cff943d",
   "metadata": {},
   "source": [
    "### Convert text to lowercase & Replacing unwanted characters like '\\n' with a space"
   ]
  },
  {
   "cell_type": "code",
   "execution_count": 9,
   "id": "cc357a7a-7424-4614-ab15-3e3e443a5d61",
   "metadata": {},
   "outputs": [],
   "source": [
    "data['text'] = data['text'].str.lower().replace(r'^\\w\\s', ' ').replace(r'\\n', ' ', regex=True)"
   ]
  },
  {
   "cell_type": "code",
   "execution_count": 10,
   "id": "2222cd2f-da8f-4f92-8479-4b072faf4de9",
   "metadata": {},
   "outputs": [
    {
     "data": {
      "text/html": [
       "<div>\n",
       "<style scoped>\n",
       "    .dataframe tbody tr th:only-of-type {\n",
       "        vertical-align: middle;\n",
       "    }\n",
       "\n",
       "    .dataframe tbody tr th {\n",
       "        vertical-align: top;\n",
       "    }\n",
       "\n",
       "    .dataframe thead th {\n",
       "        text-align: right;\n",
       "    }\n",
       "</style>\n",
       "<table border=\"1\" class=\"dataframe\">\n",
       "  <thead>\n",
       "    <tr style=\"text-align: right;\">\n",
       "      <th></th>\n",
       "      <th>artist</th>\n",
       "      <th>song</th>\n",
       "      <th>text</th>\n",
       "    </tr>\n",
       "  </thead>\n",
       "  <tbody>\n",
       "    <tr>\n",
       "      <th>4995</th>\n",
       "      <td>Backstreet Boys</td>\n",
       "      <td>PDA</td>\n",
       "      <td>intimacy's  \\r fresh from my dreams  \\r over a...</td>\n",
       "    </tr>\n",
       "    <tr>\n",
       "      <th>4996</th>\n",
       "      <td>Human League</td>\n",
       "      <td>Never Let Me Go</td>\n",
       "      <td>go go go  \\r go go go  \\r   \\r let me tell you...</td>\n",
       "    </tr>\n",
       "    <tr>\n",
       "      <th>4997</th>\n",
       "      <td>Eminem</td>\n",
       "      <td>It's Murda</td>\n",
       "      <td>eminem:  \\r   \\r i'll shove a gun in your gril...</td>\n",
       "    </tr>\n",
       "    <tr>\n",
       "      <th>4998</th>\n",
       "      <td>Lloyd Cole</td>\n",
       "      <td>Mannish Girl</td>\n",
       "      <td>i used to be content to frown  \\r but anything...</td>\n",
       "    </tr>\n",
       "    <tr>\n",
       "      <th>4999</th>\n",
       "      <td>Michael W. Smith</td>\n",
       "      <td>Angels Unaware</td>\n",
       "      <td>maybe there's a light in my soul  \\r maybe it ...</td>\n",
       "    </tr>\n",
       "  </tbody>\n",
       "</table>\n",
       "</div>"
      ],
      "text/plain": [
       "                artist             song  \\\n",
       "4995   Backstreet Boys              PDA   \n",
       "4996      Human League  Never Let Me Go   \n",
       "4997            Eminem       It's Murda   \n",
       "4998        Lloyd Cole     Mannish Girl   \n",
       "4999  Michael W. Smith   Angels Unaware   \n",
       "\n",
       "                                                   text  \n",
       "4995  intimacy's  \\r fresh from my dreams  \\r over a...  \n",
       "4996  go go go  \\r go go go  \\r   \\r let me tell you...  \n",
       "4997  eminem:  \\r   \\r i'll shove a gun in your gril...  \n",
       "4998  i used to be content to frown  \\r but anything...  \n",
       "4999  maybe there's a light in my soul  \\r maybe it ...  "
      ]
     },
     "execution_count": 10,
     "metadata": {},
     "output_type": "execute_result"
    }
   ],
   "source": [
    "data.tail(5)"
   ]
  },
  {
   "cell_type": "markdown",
   "id": "a849eada-c224-4fde-b414-398c960c5951",
   "metadata": {},
   "source": [
    "### Initialize the PorterStemmer for stemming"
   ]
  },
  {
   "cell_type": "code",
   "execution_count": 11,
   "id": "8f730b56-610f-4823-a1bd-ad4234895f91",
   "metadata": {},
   "outputs": [],
   "source": [
    "port_stem = PorterStemmer()"
   ]
  },
  {
   "cell_type": "markdown",
   "id": "5fdb346c-a41f-437d-95d1-c12725629cc6",
   "metadata": {},
   "source": [
    "### Define a function to tokenize and stem the lyrics"
   ]
  },
  {
   "cell_type": "code",
   "execution_count": 12,
   "id": "f911a2d4-4844-424c-b379-c25ce5fa6cd7",
   "metadata": {},
   "outputs": [],
   "source": [
    "def tokenization(txt):\n",
    "    tokens = nltk.word_tokenize(txt)  # Tokenize the text\n",
    "    stemming = [port_stem.stem(w) for w in tokens]  # Stem each token\n",
    "    return \" \".join(stemming)  # Join the stemmed tokens into a single string"
   ]
  },
  {
   "cell_type": "markdown",
   "id": "4d2a9757-582c-4fe2-b4de-cd39a4403c27",
   "metadata": {},
   "source": [
    "### Applying the tokenization function to the 'text' column"
   ]
  },
  {
   "cell_type": "code",
   "execution_count": 13,
   "id": "e1fb47c1-526c-445c-a725-613508ee3aa0",
   "metadata": {},
   "outputs": [],
   "source": [
    "data['text'] = data['text'].apply(lambda x: tokenization(x))"
   ]
  },
  {
   "cell_type": "markdown",
   "id": "15e47c44-f8ef-4b90-a76b-1fbeeda6c598",
   "metadata": {},
   "source": [
    "### Create a TF-IDF matrix for the lyrics"
   ]
  },
  {
   "cell_type": "code",
   "execution_count": 14,
   "id": "767fd305-b5e9-4a1e-8f9c-0d8e706c86cb",
   "metadata": {},
   "outputs": [],
   "source": [
    "vectorizer = TfidfVectorizer(analyzer='word', stop_words='english')  # Initialize TF-IDF Vectorizer with English stopwords\n",
    "matrix = vectorizer.fit_transform(data['text'])  # Fit and transform the 'text' column to create the TF-IDF matrix"
   ]
  },
  {
   "cell_type": "markdown",
   "id": "8d7fa44d-35de-46a6-9dcd-34cd4e66bd94",
   "metadata": {},
   "source": [
    "### Compute the cosine similarity between all songs"
   ]
  },
  {
   "cell_type": "code",
   "execution_count": 17,
   "id": "50a8dd21-6781-49d2-a21c-8d397ac279d4",
   "metadata": {},
   "outputs": [
    {
     "data": {
      "text/plain": [
       "array([1.        , 0.09601823, 0.04683935, ..., 0.04449815, 0.17035017,\n",
       "       0.04702352])"
      ]
     },
     "execution_count": 17,
     "metadata": {},
     "output_type": "execute_result"
    }
   ],
   "source": [
    "similarity = cosine_similarity(matrix)\n",
    "similarity[0]  # Check similarity scores for the first song"
   ]
  },
  {
   "cell_type": "code",
   "execution_count": 18,
   "id": "31bb7e57-ada4-4a8f-b883-f0be6bee4a03",
   "metadata": {},
   "outputs": [
    {
     "data": {
      "text/plain": [
       "4996"
      ]
     },
     "execution_count": 18,
     "metadata": {},
     "output_type": "execute_result"
    }
   ],
   "source": [
    "# Check the details of the song \"Crying Over You\"\n",
    "data[data['song'] == 'Never Let Me Go'].index[0]"
   ]
  },
  {
   "cell_type": "markdown",
   "id": "1cd3d5dd-28dd-4a46-ac5c-0220d732b960",
   "metadata": {},
   "source": [
    "### Saving the Similarity Matrix and Dataframe Using pickle for later use\n"
   ]
  },
  {
   "cell_type": "code",
   "execution_count": 19,
   "id": "9bf7908d-cf43-455f-bf9f-e2af9298334d",
   "metadata": {},
   "outputs": [],
   "source": [
    "pickle.dump(similarity,open('similarity.pkl','wb'))\n",
    "pickle.dump(data,open('data.pkl','wb'))"
   ]
  },
  {
   "cell_type": "markdown",
   "id": "d8b1d3ec-e5d0-4b64-b449-35a9dc8171cd",
   "metadata": {},
   "source": [
    "### Define a recommendation function"
   ]
  },
  {
   "cell_type": "code",
   "execution_count": 20,
   "id": "2dce7e00-6454-4218-abf3-b8f4f7de56ac",
   "metadata": {},
   "outputs": [],
   "source": [
    "def recommendation(song_df):\n",
    "    idx = data[data['song'] == song_df].index[0]  # Find the index of the given song\n",
    "    distances = sorted(list(enumerate(similarity[idx])), reverse=True, key=lambda x: x[1])  # Sort by similarity scores\n",
    "    \n",
    "    # Get the top 20 recommended songs\n",
    "    song = []\n",
    "    for s_id in distances[1:21]:  # Skip the first item (itself)\n",
    "        song.append(data.iloc[s_id[0]].song)\n",
    "        \n",
    "    return song"
   ]
  },
  {
   "cell_type": "code",
   "execution_count": 21,
   "id": "edc0f74b-b950-4444-872f-08c1d7d778ad",
   "metadata": {},
   "outputs": [
    {
     "data": {
      "text/plain": [
       "['Let Me Let Go',\n",
       " 'Let It Down',\n",
       " 'Let It Go',\n",
       " \"I'd Have You Anytime\",\n",
       " 'Let Go',\n",
       " 'Dreamland Express',\n",
       " 'I Let Love In',\n",
       " 'Let Her Go',\n",
       " \"I Can't Let Go\",\n",
       " 'Get Back',\n",
       " 'I Will Be There',\n",
       " \"Let's Take A Ride\",\n",
       " 'Let Me Tell You My Mind',\n",
       " 'Let Me Know',\n",
       " 'Let Yourself Go',\n",
       " 'Let Me Love You',\n",
       " \"Don't Let Me In\",\n",
       " 'Light Up The Sky',\n",
       " 'Never Let Her Go',\n",
       " \"Let's Do Something\"]"
      ]
     },
     "execution_count": 21,
     "metadata": {},
     "output_type": "execute_result"
    }
   ],
   "source": [
    "recommendation('Never Let Me Go')"
   ]
  },
  {
   "cell_type": "code",
   "execution_count": null,
   "id": "88fd8ba4-7458-464b-bff9-e09be2a5ec33",
   "metadata": {},
   "outputs": [],
   "source": []
  }
 ],
 "metadata": {
  "kernelspec": {
   "display_name": "Python 3 (ipykernel)",
   "language": "python",
   "name": "python3"
  },
  "language_info": {
   "codemirror_mode": {
    "name": "ipython",
    "version": 3
   },
   "file_extension": ".py",
   "mimetype": "text/x-python",
   "name": "python",
   "nbconvert_exporter": "python",
   "pygments_lexer": "ipython3",
   "version": "3.12.0"
  }
 },
 "nbformat": 4,
 "nbformat_minor": 5
}
